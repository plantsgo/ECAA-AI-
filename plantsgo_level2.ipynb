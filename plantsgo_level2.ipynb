{
 "cells": [
  {
   "cell_type": "code",
   "execution_count": 33,
   "id": "3d8f17dd",
   "metadata": {},
   "outputs": [],
   "source": [
    "import pandas as pd\n",
    "import lightgbm as lgb\n",
    "import os\n",
    "import gc\n",
    "import pickle\n",
    "from sklearn import preprocessing, model_selection"
   ]
  },
  {
   "cell_type": "code",
   "execution_count": 122,
   "id": "69e4e114",
   "metadata": {},
   "outputs": [],
   "source": [
    "#\"\"\"\n",
    "def get_type_feature_all_(sample, train_df, key, on, type_c, mark):\n",
    "    if type_c == \"count\":\n",
    "        tmp = pd.DataFrame(train_df[key + [on]].groupby(key)[on].count()).reset_index()\n",
    "    if type_c == \"mean\":\n",
    "        tmp = pd.DataFrame(train_df[key + [on]].groupby(key)[on].mean()).reset_index()\n",
    "    if type_c == \"nunique\":\n",
    "        tmp = pd.DataFrame(train_df[key + [on]].groupby(key)[on].nunique()).reset_index()\n",
    "    if type_c == \"max\":\n",
    "        tmp = pd.DataFrame(train_df[key + [on]].groupby(key)[on].max()).reset_index()\n",
    "    if type_c == \"min\":\n",
    "        tmp = pd.DataFrame(train_df[key + [on]].groupby(key)[on].min()).reset_index()\n",
    "    if type_c == \"sum\":\n",
    "        tmp = pd.DataFrame(train_df[key + [on]].groupby(key)[on].sum()).reset_index()\n",
    "    if type_c == \"std\":\n",
    "        tmp = pd.DataFrame(train_df[key + [on]].groupby(key)[on].std()).reset_index()\n",
    "    if type_c == \"median\":\n",
    "        tmp = pd.DataFrame(train_df[key + [on]].groupby(key)[on].median()).reset_index()\n",
    "    tmp.columns = key + [mark + \"_\" + \"_\".join(key) + '_%s_' % type_c + on]\n",
    "    tmp[mark + \"_\" + \"_\".join(key) + '_%s_' % type_c + on] = tmp[\n",
    "        mark + \"_\" + \"_\".join(key) + '_%s_' % type_c + on].astype('float32')\n",
    "    sample = sample.merge(tmp, on=key, how='left')\n",
    "    del tmp, train_df\n",
    "    gc.collect()\n",
    "    return sample, mark + \"_\" + \"_\".join(key) + '_%s_' % type_c + on\n",
    "#\"\"\"\n",
    "def get_type_feature_all(sample,train_df,key,on,type_c,mark):\n",
    "    pickle_path=\"../pickle/\"\n",
    "    filename = \"_\".join([mark+\"_%s_features\"%type_c, \"_\".join(key), on, str(len(sample))]) + \".pkl\"\n",
    "    try:\n",
    "        with open(pickle_path + filename, \"rb\") as fp:\n",
    "            print(\"load {} {} feature from pickle file: key: {}, on: {}...\".format(mark,type_c,\"_\".join(key), on))\n",
    "            col = pickle.load(fp)\n",
    "        for c in col.columns:\n",
    "            sample[c] = col[c]\n",
    "        gc.collect()\n",
    "    except:\n",
    "        print('get {} {} feature, key: {}, on: {}'.format(mark,type_c,\"_\".join(key), on))\n",
    "        if type_c==\"count\":\n",
    "            tmp = pd.DataFrame(train_df[key+[on]].groupby(key)[on].count()).reset_index()\n",
    "        if type_c==\"mean\":\n",
    "            tmp = pd.DataFrame(train_df[key+[on]].groupby(key)[on].mean()).reset_index()\n",
    "        if type_c==\"nunique\":\n",
    "            tmp = pd.DataFrame(train_df[key+[on]].groupby(key)[on].nunique()).reset_index()\n",
    "        if type_c==\"max\":\n",
    "            tmp = pd.DataFrame(train_df[key+[on]].groupby(key)[on].max()).reset_index()\n",
    "        if type_c==\"min\":\n",
    "            tmp = pd.DataFrame(train_df[key+[on]].groupby(key)[on].min()).reset_index()\n",
    "        if type_c==\"sum\":\n",
    "            tmp = pd.DataFrame(train_df[key+[on]].groupby(key)[on].sum()).reset_index()\n",
    "        if type_c==\"std\":\n",
    "            tmp = pd.DataFrame(train_df[key+[on]].groupby(key)[on].std()).reset_index()\n",
    "        if type_c==\"median\":\n",
    "            tmp = pd.DataFrame(train_df[key+[on]].groupby(key)[on].median()).reset_index()\n",
    "        tmp.columns = key+[mark+\"_\"+\"_\".join(key) + '_%s_'%type_c + on]\n",
    "        tmp[mark+\"_\"+\"_\".join(key) + '_%s_'%type_c + on] = tmp[mark+\"_\"+\"_\".join(key) + '_%s_'%type_c + on].astype('float32')\n",
    "        sample = sample.merge(tmp, on=key, how='left')\n",
    "        with open(pickle_path + filename, \"wb\") as fp:\n",
    "            col = sample[[mark+\"_\"+\"_\".join(key) + '_%s_'%type_c + on]].copy()\n",
    "            pickle.dump(col, fp)\n",
    "        del tmp\n",
    "    #if save_only:\n",
    "        #for i in col.columns:\n",
    "            #del sample[i]\n",
    "    del col,train_df\n",
    "    gc.collect()\n",
    "    return sample, mark + \"_\" + \"_\".join(key) + '_%s_' % type_c + on\n"
   ]
  },
  {
   "cell_type": "code",
   "execution_count": 123,
   "id": "f0421a0a",
   "metadata": {},
   "outputs": [],
   "source": [
    "train_data=pd.read_csv(\"../data/train.csv\")\n",
    "test_data=pd.read_csv(\"../data/test.csv\")\n",
    "sub=pd.read_csv(\"../data/sample_submission.csv\")"
   ]
  },
  {
   "cell_type": "code",
   "execution_count": 124,
   "id": "4e49730f",
   "metadata": {},
   "outputs": [],
   "source": [
    "def create_features(data):\n",
    "    #data[\"order_1h_2h\"]=data[\"orders_1h\"]+data[\"orders_2h\"]\n",
    "    \n",
    "    date_max=data.groupby([\"date\"]).article_id.max().reset_index()\n",
    "    date_max.columns=[\"date\",\"date_max\"]\n",
    "    data_min=date_max.copy()\n",
    "    data_min.columns=[\"date\",\"date_min\"]\n",
    "    data_min[\"date\"]=data_min[\"date\"]+1\n",
    "    \n",
    "    data=data.merge(date_max,on=\"date\",how=\"left\")\n",
    "    data=data.merge(data_min,on=\"date\",how=\"left\")\n",
    "    data[\"date_min\"]=data[\"date_min\"].fillna(0)\n",
    "    \n",
    "    data[\"article_id_date\"]=(data[\"article_id\"]-data[\"date_min\"])/(data[\"date_max\"]-data[\"date_min\"])\n",
    "    del data[\"date_min\"],data[\"date_max\"]\n",
    "    return data"
   ]
  },
  {
   "cell_type": "code",
   "execution_count": 125,
   "id": "e68fb2ad",
   "metadata": {},
   "outputs": [],
   "source": [
    "data=pd.concat([train_data,test_data]).reset_index(drop=True)\n",
    "#data=create_features(data)"
   ]
  },
  {
   "cell_type": "code",
   "execution_count": 126,
   "id": "b5c80320",
   "metadata": {},
   "outputs": [],
   "source": [
    "#train=train_data[train_data.date>=110].copy()#[['article_id', 'date','orders_1h','orders_2h','orders_3h_15h']].copy()\n",
    "#test=test_data.copy()#[['article_id', 'date','orders_1h','orders_2h']].copy()"
   ]
  },
  {
   "cell_type": "code",
   "execution_count": 127,
   "id": "e9806314",
   "metadata": {},
   "outputs": [],
   "source": [
    "train=data[(data.date>=110)&(data.date<=116)].copy().reset_index(drop=True)\n",
    "test=data[data.date>116].copy().reset_index(drop=True)"
   ]
  },
  {
   "cell_type": "code",
   "execution_count": 128,
   "id": "c5e422ed",
   "metadata": {},
   "outputs": [],
   "source": [
    "#train.article_id_date.mean(),test.article_id_date.mean()"
   ]
  },
  {
   "cell_type": "code",
   "execution_count": 129,
   "id": "a009e97f",
   "metadata": {},
   "outputs": [],
   "source": [
    "#train=create_features(train)\n",
    "#test=create_features(test)"
   ]
  },
  {
   "cell_type": "code",
   "execution_count": 130,
   "id": "081cc20d",
   "metadata": {},
   "outputs": [],
   "source": [
    "train_stacking_ori=pd.read_csv(\"../user_data/train_stacking_1.0638693813136202.csv\")\n",
    "test_stacking_ori=pd.read_csv(\"../user_data/test_stacking_1.0638693813136202.csv\")\n",
    "\n",
    "train_stacking_reg=pd.read_csv(\"../user_data/train_stacking_4.269348471761833.csv\")\n",
    "train_stacking_reg.columns=['article_id', 'pred2']\n",
    "test_stacking_reg=pd.read_csv(\"../user_data/test_stacking_4.269348471761833.csv\")\n",
    "test_stacking_reg.columns=['article_id', 'pred2']\n",
    "\n",
    "train_stacking_multiclass=pd.read_csv(\"../user_data/train_stacking_multiclass.csv\")\n",
    "test_stacking_multiclass=pd.read_csv(\"../user_data/test_stacking_multiclass.csv\")\n",
    "\n",
    "train_stacking_nn_reg=pd.read_csv(\"../user_data/train_stacking_nn_reg.csv\")\n",
    "test_stacking_nn_reg=pd.read_csv(\"../user_data/test_stacking_nn_reg.csv\")#\n",
    "\n",
    "train_stacking_nn_multiclass=pd.read_csv(\"../user_data/train_stacking_nn_multiclass.csv\")\n",
    "test_stacking_nn_multiclass=pd.read_csv(\"../user_data/test_stacking_nn_multiclass.csv\")#\n",
    "\n",
    "train_stacking_multiclassova=pd.read_csv(\"../user_data/train_stacking_multiclassova.csv\")\n",
    "test_stacking_multiclassova=pd.read_csv(\"../user_data/test_stacking_multiclassova.csv\")\n",
    "\n",
    "train_ja=pd.read_csv(\"../user_data/ja_scion/ja_train_scion.csv\")\n",
    "test_ja=pd.read_csv(\"../user_data/ja_scion/ja_test_scion.csv\")\n",
    "\n",
    "train_stacking_model2=pd.read_csv(\"../user_data/train_stacking_1.062315379742038.csv\")\n",
    "train_stacking_model2.columns=['article_id', 'pred3']\n",
    "test_stacking_model2=pd.read_csv(\"../user_data/test_stacking_1.062315379742038.csv\")\n",
    "test_stacking_model2.columns=['article_id', 'pred3']\n",
    "\n",
    "train_stacking_nn_reg_2=pd.read_csv(\"../user_data/train_stacking_nn_reg_2.csv\")\n",
    "test_stacking_nn_reg_2=pd.read_csv(\"../user_data/test_stacking_nn_reg_2.csv\")#"
   ]
  },
  {
   "cell_type": "code",
   "execution_count": 131,
   "id": "b71515d3",
   "metadata": {},
   "outputs": [],
   "source": [
    "\n",
    "train=train.merge(train_stacking_ori,on=\"article_id\",how=\"left\")\n",
    "test=test.merge(test_stacking_ori,on=\"article_id\",how=\"left\")\n",
    "\n",
    "train=train.merge(train_stacking_reg,on=\"article_id\",how=\"left\")\n",
    "test=test.merge(test_stacking_reg,on=\"article_id\",how=\"left\")\n",
    "\n",
    "train=train.merge(train_stacking_multiclass,on=\"article_id\",how=\"left\")\n",
    "test=test.merge(test_stacking_multiclass,on=\"article_id\",how=\"left\")\n",
    "\n",
    "train=train.merge(train_stacking_nn_reg,on=\"article_id\",how=\"left\")\n",
    "test=test.merge(test_stacking_nn_reg,on=\"article_id\",how=\"left\")\n",
    "\n",
    "train=train.merge(train_stacking_nn_multiclass,on=\"article_id\",how=\"left\")\n",
    "test=test.merge(test_stacking_nn_multiclass,on=\"article_id\",how=\"left\")\n",
    "\n",
    "train=train.merge(train_stacking_multiclassova,on=\"article_id\",how=\"left\")\n",
    "test=test.merge(test_stacking_multiclassova,on=\"article_id\",how=\"left\")\n",
    "\n",
    "train=train.merge(train_stacking_model2,on=\"article_id\",how=\"left\")\n",
    "test=test.merge(test_stacking_model2,on=\"article_id\",how=\"left\")\n",
    "\n",
    "train=train.merge(train_stacking_nn_reg_2,on=\"article_id\",how=\"left\")\n",
    "test=test.merge(test_stacking_nn_reg_2,on=\"article_id\",how=\"left\")\n",
    "\n",
    "train=train.merge(train_ja,on=\"article_id\",how=\"left\")\n",
    "test=test.merge(test_ja,on=\"article_id\",how=\"left\")"
   ]
  },
  {
   "cell_type": "code",
   "execution_count": 132,
   "id": "b666d680",
   "metadata": {},
   "outputs": [
    {
     "name": "stdout",
     "output_type": "stream",
     "text": [
      "1.1023229683034188\n"
     ]
    }
   ],
   "source": [
    "score=train[train.date>=115].copy()\n",
    "print(((score[\"pred\"]-score[\"orders_3h_15h\"])**2).mean())"
   ]
  },
  {
   "cell_type": "code",
   "execution_count": 133,
   "id": "1c01df27",
   "metadata": {},
   "outputs": [],
   "source": [
    "#1.1023229683034188"
   ]
  },
  {
   "cell_type": "code",
   "execution_count": 134,
   "id": "32615c0e",
   "metadata": {},
   "outputs": [
    {
     "data": {
      "text/html": [
       "<div>\n",
       "<style scoped>\n",
       "    .dataframe tbody tr th:only-of-type {\n",
       "        vertical-align: middle;\n",
       "    }\n",
       "\n",
       "    .dataframe tbody tr th {\n",
       "        vertical-align: top;\n",
       "    }\n",
       "\n",
       "    .dataframe thead th {\n",
       "        text-align: right;\n",
       "    }\n",
       "</style>\n",
       "<table border=\"1\" class=\"dataframe\">\n",
       "  <thead>\n",
       "    <tr style=\"text-align: right;\">\n",
       "      <th></th>\n",
       "      <th>article_id</th>\n",
       "      <th>date</th>\n",
       "      <th>baike_id_1h</th>\n",
       "      <th>price</th>\n",
       "      <th>price_diff</th>\n",
       "      <th>author</th>\n",
       "      <th>level1</th>\n",
       "      <th>level2</th>\n",
       "      <th>level3</th>\n",
       "      <th>level4</th>\n",
       "      <th>...</th>\n",
       "      <th>ja3</th>\n",
       "      <th>ja4</th>\n",
       "      <th>ja5</th>\n",
       "      <th>ja6</th>\n",
       "      <th>ja7</th>\n",
       "      <th>ja8</th>\n",
       "      <th>ja9</th>\n",
       "      <th>ja10</th>\n",
       "      <th>ja11</th>\n",
       "      <th>ja12</th>\n",
       "    </tr>\n",
       "  </thead>\n",
       "  <tbody>\n",
       "    <tr>\n",
       "      <th>0</th>\n",
       "      <td>1664040</td>\n",
       "      <td>110</td>\n",
       "      <td>175435</td>\n",
       "      <td>284.00</td>\n",
       "      <td>NaN</td>\n",
       "      <td>48906</td>\n",
       "      <td>9</td>\n",
       "      <td>70</td>\n",
       "      <td>414</td>\n",
       "      <td>29</td>\n",
       "      <td>...</td>\n",
       "      <td>0.039223</td>\n",
       "      <td>0.053054</td>\n",
       "      <td>0.081302</td>\n",
       "      <td>0.119573</td>\n",
       "      <td>0.307969</td>\n",
       "      <td>0.305706</td>\n",
       "      <td>0.065088</td>\n",
       "      <td>2.208236e-04</td>\n",
       "      <td>5.029412e-174</td>\n",
       "      <td>0.0</td>\n",
       "    </tr>\n",
       "    <tr>\n",
       "      <th>1</th>\n",
       "      <td>1664289</td>\n",
       "      <td>110</td>\n",
       "      <td>219783</td>\n",
       "      <td>23.80</td>\n",
       "      <td>NaN</td>\n",
       "      <td>39437</td>\n",
       "      <td>19</td>\n",
       "      <td>2</td>\n",
       "      <td>752</td>\n",
       "      <td>0</td>\n",
       "      <td>...</td>\n",
       "      <td>0.870572</td>\n",
       "      <td>0.113277</td>\n",
       "      <td>0.037071</td>\n",
       "      <td>0.007063</td>\n",
       "      <td>0.004393</td>\n",
       "      <td>0.000739</td>\n",
       "      <td>0.000015</td>\n",
       "      <td>1.346449e-08</td>\n",
       "      <td>0.000000e+00</td>\n",
       "      <td>0.0</td>\n",
       "    </tr>\n",
       "    <tr>\n",
       "      <th>2</th>\n",
       "      <td>1664686</td>\n",
       "      <td>110</td>\n",
       "      <td>32815</td>\n",
       "      <td>19.90</td>\n",
       "      <td>7.0</td>\n",
       "      <td>52372</td>\n",
       "      <td>3</td>\n",
       "      <td>82</td>\n",
       "      <td>55</td>\n",
       "      <td>1004</td>\n",
       "      <td>...</td>\n",
       "      <td>0.018873</td>\n",
       "      <td>0.023217</td>\n",
       "      <td>0.026392</td>\n",
       "      <td>0.031700</td>\n",
       "      <td>0.246764</td>\n",
       "      <td>0.604190</td>\n",
       "      <td>0.130894</td>\n",
       "      <td>8.592879e-03</td>\n",
       "      <td>3.848313e-48</td>\n",
       "      <td>0.0</td>\n",
       "    </tr>\n",
       "    <tr>\n",
       "      <th>3</th>\n",
       "      <td>1666137</td>\n",
       "      <td>110</td>\n",
       "      <td>219783</td>\n",
       "      <td>35.67</td>\n",
       "      <td>NaN</td>\n",
       "      <td>59879</td>\n",
       "      <td>3</td>\n",
       "      <td>82</td>\n",
       "      <td>53</td>\n",
       "      <td>0</td>\n",
       "      <td>...</td>\n",
       "      <td>0.826350</td>\n",
       "      <td>0.125068</td>\n",
       "      <td>0.058818</td>\n",
       "      <td>0.009125</td>\n",
       "      <td>0.007058</td>\n",
       "      <td>0.000490</td>\n",
       "      <td>0.000043</td>\n",
       "      <td>9.965661e-07</td>\n",
       "      <td>0.000000e+00</td>\n",
       "      <td>0.0</td>\n",
       "    </tr>\n",
       "    <tr>\n",
       "      <th>4</th>\n",
       "      <td>1667990</td>\n",
       "      <td>110</td>\n",
       "      <td>30928</td>\n",
       "      <td>1999.00</td>\n",
       "      <td>0.0</td>\n",
       "      <td>62460</td>\n",
       "      <td>9</td>\n",
       "      <td>67</td>\n",
       "      <td>359</td>\n",
       "      <td>28</td>\n",
       "      <td>...</td>\n",
       "      <td>0.578761</td>\n",
       "      <td>0.223882</td>\n",
       "      <td>0.120942</td>\n",
       "      <td>0.051146</td>\n",
       "      <td>0.041429</td>\n",
       "      <td>0.000525</td>\n",
       "      <td>0.000155</td>\n",
       "      <td>2.395418e-08</td>\n",
       "      <td>0.000000e+00</td>\n",
       "      <td>0.0</td>\n",
       "    </tr>\n",
       "  </tbody>\n",
       "</table>\n",
       "<p>5 rows × 76 columns</p>\n",
       "</div>"
      ],
      "text/plain": [
       "   article_id  date  baike_id_1h    price  price_diff  author  level1  level2  \\\n",
       "0     1664040   110       175435   284.00         NaN   48906       9      70   \n",
       "1     1664289   110       219783    23.80         NaN   39437      19       2   \n",
       "2     1664686   110        32815    19.90         7.0   52372       3      82   \n",
       "3     1666137   110       219783    35.67         NaN   59879       3      82   \n",
       "4     1667990   110        30928  1999.00         0.0   62460       9      67   \n",
       "\n",
       "   level3  level4  ...       ja3       ja4       ja5       ja6       ja7  \\\n",
       "0     414      29  ...  0.039223  0.053054  0.081302  0.119573  0.307969   \n",
       "1     752       0  ...  0.870572  0.113277  0.037071  0.007063  0.004393   \n",
       "2      55    1004  ...  0.018873  0.023217  0.026392  0.031700  0.246764   \n",
       "3      53       0  ...  0.826350  0.125068  0.058818  0.009125  0.007058   \n",
       "4     359      28  ...  0.578761  0.223882  0.120942  0.051146  0.041429   \n",
       "\n",
       "        ja8       ja9          ja10           ja11  ja12  \n",
       "0  0.305706  0.065088  2.208236e-04  5.029412e-174   0.0  \n",
       "1  0.000739  0.000015  1.346449e-08   0.000000e+00   0.0  \n",
       "2  0.604190  0.130894  8.592879e-03   3.848313e-48   0.0  \n",
       "3  0.000490  0.000043  9.965661e-07   0.000000e+00   0.0  \n",
       "4  0.000525  0.000155  2.395418e-08   0.000000e+00   0.0  \n",
       "\n",
       "[5 rows x 76 columns]"
      ]
     },
     "execution_count": 134,
     "metadata": {},
     "output_type": "execute_result"
    }
   ],
   "source": [
    "train.head()"
   ]
  },
  {
   "cell_type": "code",
   "execution_count": 135,
   "id": "16f94695",
   "metadata": {},
   "outputs": [],
   "source": [
    "train_cv=train[(train.date<115)].copy()\n",
    "valid_cv=train[(train.date>=115)].copy()"
   ]
  },
  {
   "cell_type": "code",
   "execution_count": 136,
   "id": "26efdee9",
   "metadata": {},
   "outputs": [],
   "source": [
    "features = list(train[:1].drop(['date','orders_3h_15h'],axis=1).columns)"
   ]
  },
  {
   "cell_type": "code",
   "execution_count": 137,
   "id": "21b7fdb9",
   "metadata": {},
   "outputs": [
    {
     "data": {
      "text/plain": [
       "((105434, 76), (39527, 76))"
      ]
     },
     "execution_count": 137,
     "metadata": {},
     "output_type": "execute_result"
    }
   ],
   "source": [
    "train_cv.shape,valid_cv.shape"
   ]
  },
  {
   "cell_type": "code",
   "execution_count": 142,
   "id": "332d0556",
   "metadata": {
    "scrolled": true
   },
   "outputs": [
    {
     "name": "stdout",
     "output_type": "stream",
     "text": [
      "[LightGBM] [Warning] Unknown parameter: colsample_bylevel\n",
      "[500]\tvalid_0's l2: 1.06022\n",
      "[1000]\tvalid_0's l2: 1.03457\n"
     ]
    }
   ],
   "source": [
    "train_set = lgb.Dataset(train_cv[features], label=train_cv[\"orders_3h_15h\"])\n",
    "val_set = lgb.Dataset(valid_cv[features], label=valid_cv[\"orders_3h_15h\"])\n",
    "\n",
    "params_lgbm = {\n",
    "          'task': 'train',\n",
    "          'boosting_type': 'gbdt',\n",
    "          'objective': 'regression',\n",
    "          'metric': 'mse',\n",
    "          'min_child_weight': 1.5,\n",
    "          'num_leaves': 2**5,\n",
    "          'max_depth': 5,\n",
    "          'lambda_l2': 0.7,\n",
    "          'subsample': 0.7,\n",
    "          'colsample_bytree': 0.7,\n",
    "          'colsample_bylevel': 0.7,\n",
    "          'learning_rate': 0.005,\n",
    "          #'tree_method': 'exact',\n",
    "          'seed': 2021,\n",
    "          'nthread': 18,\n",
    "          'verbose': -1,\n",
    "          }\n",
    "\n",
    "\n",
    "model = lgb.train(params_lgbm, \n",
    "                  train_set, \n",
    "                  1000, \n",
    "                  valid_sets=val_set, \n",
    "                  #feval=feval_RMSPE,\n",
    "                  verbose_eval= 500,\n",
    "                  #early_stopping_rounds=500,\n",
    "                  #categorical_feature=cats,\n",
    "                 )"
   ]
  },
  {
   "cell_type": "code",
   "execution_count": 143,
   "id": "beebbcda",
   "metadata": {},
   "outputs": [],
   "source": [
    "#1.0912236723940199\n",
    "#[1000]\tvalid_0's l2: 1.09141\n",
    "#[1000]\tvalid_0's l2: 1.08866    +nn\n",
    "#[1000]\tvalid_0's l2: 1.08638    +nn  multiclass\n",
    "#[1000]\tvalid_0's l2: 1.08467    +lgb multiclass ova\n",
    "#[1000]\tvalid_0's l2: 1.07189\n",
    "#[1000]\tvalid_0's l2: 1.06989"
   ]
  },
  {
   "cell_type": "code",
   "execution_count": 144,
   "id": "325d7a55",
   "metadata": {},
   "outputs": [
    {
     "name": "stdout",
     "output_type": "stream",
     "text": [
      "1.0345648716842124\n"
     ]
    }
   ],
   "source": [
    "valid_score=valid_cv[['article_id', 'date','orders_3h_15h']].copy()\n",
    "valid_score[\"pred\"]=model.predict(valid_cv[features])\n",
    "valid_score[\"pred\"]=valid_score[\"pred\"].apply(lambda x:0 if x<0 else x)\n",
    "score=((valid_score[\"pred\"]-valid_score[\"orders_3h_15h\"])**2).mean()\n",
    "print(score)"
   ]
  },
  {
   "cell_type": "code",
   "execution_count": 113,
   "id": "6eb556b0",
   "metadata": {},
   "outputs": [
    {
     "name": "stdout",
     "output_type": "stream",
     "text": [
      "1.0805581896677496 1.0612644683543724 0.9689660988362288 0.9418844193863168\n",
      "1.0784580651220836 1.062164510887983 0.9484736043177602 0.9506668112327876\n",
      "1.0681953653574296 1.0665627578000223 0.9564850733681902 0.9472333658607105\n",
      "1.0515859301249328 1.0736810014296019 0.9402934727610053 0.9541725396653294\n",
      "1.0815370260750123 1.0608449720907762 0.9456906729634003 0.9518594817304564\n",
      "1.0594569341178184 1.0703077546426745 0.9413054477989543 0.9537388413025407\n",
      "1.0785231434921854 1.0621366204939415 0.9440040479001518 0.9525823123351043\n",
      "1.0504874758878302 1.0741517618598198 0.9567380671276775 0.9471249412700133\n",
      "1.0625353120448429 1.0689884657107096 0.9408837915331422 0.9539195489537027\n",
      "1.0847089399397367 1.0594855968113 0.9653398549502445 0.9434385051863096\n",
      "1.082091328079861 1.0606074169506001 0.9646652049249452 0.9437276374281687\n",
      "1.1128207199456779 1.0474378362377132 0.9595209984820374 0.9459322707723445\n",
      "1.0679229976357523 1.0666794854173458 0.938438185191432 0.954967653330442\n",
      "1.0483417605346559 1.0750713430755445 0.9547984483049418 0.9479561964653583\n",
      "1.0501967311618992 1.0742763652412202 0.938438185191432 0.954967653330442\n",
      "1.0847153479959915 1.0594828505345593 0.975037949063923 0.9392822292095847\n",
      "1.0643245870105411 1.0682216428207099 0.9682914488109293 0.942173551628176\n",
      "1.0449464382884825 1.0765264636507412 0.9455220104570754 0.9519317647909212\n",
      "1.1038239229036628 1.0512935599474373 0.9471243042671614 0.9512450757165059\n",
      "1.0777836461762413 1.0624535440969847 0.9488952605835723 0.9504861035816257\n"
     ]
    }
   ],
   "source": [
    "for i in range(20):\n",
    "    valid_score_a=valid_score.sample(frac=0.3)\n",
    "    valid_score_b=valid_score[~valid_score.index.isin(valid_score_a.index)]\n",
    "    score_a=((valid_score_a[\"pred\"]-valid_score_a[\"orders_3h_15h\"])**2).mean()\n",
    "    score_b=((valid_score_b[\"pred\"]-valid_score_b[\"orders_3h_15h\"])**2).mean()\n",
    "    mean_a=valid_score_a[\"orders_3h_15h\"].mean()\n",
    "    mean_b=valid_score_b[\"orders_3h_15h\"].mean()\n",
    "    print(score_a,score_b,mean_a,mean_b)"
   ]
  },
  {
   "cell_type": "code",
   "execution_count": 110,
   "id": "d7cc63af",
   "metadata": {},
   "outputs": [],
   "source": []
  },
  {
   "cell_type": "code",
   "execution_count": 111,
   "id": "fd35697a",
   "metadata": {},
   "outputs": [
    {
     "name": "stdout",
     "output_type": "stream",
     "text": [
      "1.0788363317159122 1.0620023985865052 0.9373418789003205 0.955437493223463\n"
     ]
    }
   ],
   "source": []
  },
  {
   "cell_type": "code",
   "execution_count": 146,
   "id": "642b4439",
   "metadata": {
    "scrolled": true
   },
   "outputs": [
    {
     "data": {
      "text/plain": [
       "1.0345648716842124"
      ]
     },
     "execution_count": 146,
     "metadata": {},
     "output_type": "execute_result"
    }
   ],
   "source": [
    "score"
   ]
  },
  {
   "cell_type": "code",
   "execution_count": 145,
   "id": "68208fe2",
   "metadata": {
    "scrolled": true
   },
   "outputs": [
    {
     "name": "stdout",
     "output_type": "stream",
     "text": [
      "ja1: 11659514.61\n",
      "ja3: 1715318.94\n",
      "pred3: 1285448.70\n",
      "pred: 1224250.50\n",
      "ja2: 393693.78\n",
      "pred_nn_4: 83633.90\n",
      "multiclassova_0: 69777.11\n",
      "article_id: 58814.66\n",
      "pred_nn: 57604.95\n",
      "level2: 37368.14\n",
      "multiclass_0: 32198.09\n",
      "multiclass_2: 27159.34\n",
      "ja9: 20234.93\n",
      "level1: 19723.08\n",
      "price_diff: 18534.37\n",
      "pred_nn_3: 18454.84\n",
      "multiclass_5: 16636.49\n",
      "multiclass_1: 16593.35\n",
      "multiclass_4: 15144.53\n",
      "pred2: 15095.22\n",
      "price: 14510.87\n",
      "multiclassova_7: 14404.02\n",
      "mall: 14289.51\n",
      "pred_nn_0: 13495.03\n",
      "baike_id_1h: 13380.70\n",
      "ja4: 12997.39\n",
      "pred_nn_2: 12469.92\n",
      "url: 12056.23\n",
      "ja10: 10761.38\n",
      "nn_multiclass_5: 10441.02\n",
      "level4: 10408.35\n",
      "multiclass_7: 10229.41\n",
      "ja8: 9428.95\n",
      "nn_multiclass_3: 9400.83\n",
      "multiclassova_2: 9282.08\n",
      "multiclass_6: 9102.71\n",
      "multiclassova_5: 8832.26\n",
      "pred_nn_1: 8696.95\n",
      "nn_multiclass_6: 8573.26\n",
      "nn_multiclass_1: 8199.61\n",
      "level3: 7550.25\n",
      "multiclass_3: 7488.33\n",
      "ja6: 7388.86\n",
      "multiclass_8: 7246.03\n",
      "brand: 7198.86\n",
      "nn_multiclass_4: 7071.42\n",
      "multiclassova_1: 6580.01\n",
      "author: 6547.79\n",
      "multiclassova_4: 6244.29\n",
      "multiclassova_3: 6154.16\n",
      "nn_multiclass_2: 6006.62\n",
      "multiclass_9: 5881.32\n",
      "orders_2h: 5807.06\n",
      "favorite_1h: 5680.64\n",
      "multiclassova_6: 5633.78\n",
      "nn_multiclass_7: 5154.01\n",
      "ja7: 5126.59\n",
      "baike_id_2h: 5057.76\n",
      "nn_multiclass_0: 4980.82\n",
      "nn_multiclass_8: 4814.37\n",
      "ja5: 4453.60\n",
      "nn_multiclass_9: 3752.07\n",
      "multiclassova_9: 3657.96\n",
      "multiclassova_8: 3174.88\n",
      "favorite_2h: 2845.60\n",
      "comments_1h: 2699.74\n",
      "orders_1h: 2429.95\n",
      "zhi_2h: 1540.15\n",
      "zhi_1h: 892.95\n",
      "buzhi_1h: 820.05\n",
      "comments_2h: 563.35\n",
      "buzhi_2h: 360.72\n",
      "ja11: 100.77\n",
      "ja12: 0.00\n"
     ]
    }
   ],
   "source": [
    "print(\"\\n\".join((\"%s: %.2f\" % x) for x in\n",
    "                list(sorted(zip(features, model.feature_importance(\"gain\")), key=lambda x: x[1],\n",
    "                      \n",
    "                            reverse=True))[:200]\n",
    "                ))\n"
   ]
  },
  {
   "cell_type": "code",
   "execution_count": null,
   "id": "f7de2be3",
   "metadata": {},
   "outputs": [],
   "source": []
  },
  {
   "cell_type": "code",
   "execution_count": 147,
   "id": "dbffbe38",
   "metadata": {
    "scrolled": true
   },
   "outputs": [
    {
     "name": "stdout",
     "output_type": "stream",
     "text": [
      "[LightGBM] [Warning] Unknown parameter: colsample_bylevel\n",
      "[500]\tvalid_0's l2: 1.03678\n",
      "[1000]\tvalid_0's l2: 0.995379\n"
     ]
    }
   ],
   "source": [
    "train_set = lgb.Dataset(train[features], label=train[\"orders_3h_15h\"])\n",
    "val_set = lgb.Dataset(valid_cv[features], label=valid_cv[\"orders_3h_15h\"])\n",
    "\n",
    "params_lgbm = {\n",
    "          'task': 'train',\n",
    "          'boosting_type': 'gbdt',\n",
    "          'objective': 'regression',\n",
    "          'metric': 'mse',\n",
    "          'min_child_weight': 1.5,\n",
    "          'num_leaves': 2**5,\n",
    "          'max_depth': 5,\n",
    "          'lambda_l2': 0.7,\n",
    "          'subsample': 0.7,\n",
    "          'colsample_bytree': 0.7,\n",
    "          'colsample_bylevel': 0.7,\n",
    "          'learning_rate': 0.005,\n",
    "          #'tree_method': 'exact',\n",
    "          'seed': 2021,\n",
    "          'nthread': 18,\n",
    "          'verbose': -1,\n",
    "          }\n",
    "\n",
    "\n",
    "model = lgb.train(params_lgbm, \n",
    "                  train_set, \n",
    "                  1000, \n",
    "                  valid_sets=val_set, \n",
    "                  #feval=feval_RMSPE,\n",
    "                  verbose_eval= 500,\n",
    "                  #early_stopping_rounds=500,\n",
    "                  #categorical_feature=cats,\n",
    "                 )"
   ]
  },
  {
   "cell_type": "code",
   "execution_count": 148,
   "id": "de87d1f3",
   "metadata": {},
   "outputs": [],
   "source": [
    "submission=test[[\"article_id\"]].copy()\n",
    "submission[\"orders_3h_15h\"]=model.predict(test[features])\n",
    "submission[\"orders_3h_15h\"]=submission[\"orders_3h_15h\"].apply(lambda x:0 if x<0 else x)\n",
    "\n",
    "submission.to_csv(\"../sub/summission_%s.csv\"%score,index=None)\n",
    "submission.to_csv(\"../sub/summission.csv\",index=None)"
   ]
  },
  {
   "cell_type": "code",
   "execution_count": 149,
   "id": "22c353df",
   "metadata": {},
   "outputs": [
    {
     "data": {
      "text/plain": [
       "(149589, 2)"
      ]
     },
     "execution_count": 149,
     "metadata": {},
     "output_type": "execute_result"
    }
   ],
   "source": [
    "submission.shape"
   ]
  },
  {
   "cell_type": "code",
   "execution_count": 150,
   "id": "ecdd608b",
   "metadata": {},
   "outputs": [
    {
     "data": {
      "text/plain": [
       "0.7748418956511023"
      ]
     },
     "execution_count": 150,
     "metadata": {},
     "output_type": "execute_result"
    }
   ],
   "source": [
    "submission.orders_3h_15h.mean()"
   ]
  },
  {
   "cell_type": "code",
   "execution_count": 151,
   "id": "5ff90996",
   "metadata": {},
   "outputs": [
    {
     "data": {
      "text/plain": [
       "(149589, 76)"
      ]
     },
     "execution_count": 151,
     "metadata": {},
     "output_type": "execute_result"
    }
   ],
   "source": [
    "test.shape"
   ]
  },
  {
   "cell_type": "code",
   "execution_count": 152,
   "id": "4db37a7d",
   "metadata": {},
   "outputs": [
    {
     "data": {
      "text/plain": [
       "0.8046991951966016"
      ]
     },
     "execution_count": 152,
     "metadata": {},
     "output_type": "execute_result"
    }
   ],
   "source": [
    "test.pred.mean()"
   ]
  },
  {
   "cell_type": "code",
   "execution_count": 153,
   "id": "96c2a24a",
   "metadata": {},
   "outputs": [
    {
     "data": {
      "text/plain": [
       "0.8784951391982075"
      ]
     },
     "execution_count": 153,
     "metadata": {},
     "output_type": "execute_result"
    }
   ],
   "source": [
    "train.pred.mean()"
   ]
  },
  {
   "cell_type": "code",
   "execution_count": null,
   "id": "9100cca0",
   "metadata": {},
   "outputs": [],
   "source": []
  },
  {
   "cell_type": "code",
   "execution_count": null,
   "id": "36203c83",
   "metadata": {},
   "outputs": [],
   "source": []
  }
 ],
 "metadata": {
  "kernelspec": {
   "display_name": "Python 3",
   "language": "python",
   "name": "python3"
  },
  "language_info": {
   "codemirror_mode": {
    "name": "ipython",
    "version": 3
   },
   "file_extension": ".py",
   "mimetype": "text/x-python",
   "name": "python",
   "nbconvert_exporter": "python",
   "pygments_lexer": "ipython3",
   "version": "3.7.2"
  }
 },
 "nbformat": 4,
 "nbformat_minor": 5
}
